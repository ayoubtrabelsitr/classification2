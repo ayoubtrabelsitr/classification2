{
 "cells": [
  {
   "cell_type": "code",
   "execution_count": 2,
   "id": "c7aea8cd",
   "metadata": {},
   "outputs": [
    {
     "ename": "KeyboardInterrupt",
     "evalue": "",
     "output_type": "error",
     "traceback": [
      "\u001b[1;31m---------------------------------------------------------------------------\u001b[0m",
      "\u001b[1;31mKeyboardInterrupt\u001b[0m                         Traceback (most recent call last)",
      "\u001b[1;32m~\\AppData\\Local\\Temp/ipykernel_3760/2547669238.py\u001b[0m in \u001b[0;36m<module>\u001b[1;34m\u001b[0m\n\u001b[0;32m     37\u001b[0m \u001b[1;33m\u001b[0m\u001b[0m\n\u001b[0;32m     38\u001b[0m     \u001b[1;31m# wait for user to press any key\u001b[0m\u001b[1;33m\u001b[0m\u001b[1;33m\u001b[0m\u001b[0m\n\u001b[1;32m---> 39\u001b[1;33m     \u001b[0mkey\u001b[0m \u001b[1;33m=\u001b[0m \u001b[0mcv2\u001b[0m\u001b[1;33m.\u001b[0m\u001b[0mwaitKey\u001b[0m\u001b[1;33m(\u001b[0m\u001b[1;36m100\u001b[0m\u001b[1;33m)\u001b[0m\u001b[1;33m\u001b[0m\u001b[1;33m\u001b[0m\u001b[0m\n\u001b[0m\u001b[0;32m     40\u001b[0m \u001b[1;33m\u001b[0m\u001b[0m\n\u001b[0;32m     41\u001b[0m     \u001b[1;31m# wait variable is to calculate waiting time\u001b[0m\u001b[1;33m\u001b[0m\u001b[1;33m\u001b[0m\u001b[0m\n",
      "\u001b[1;31mKeyboardInterrupt\u001b[0m: "
     ]
    }
   ],
   "source": [
    "# Import necessary libraries\n",
    "import cv2\n",
    "import os\n",
    "from datetime import datetime\n",
    "import tensorflow as tf\n",
    "from tensorflow import keras\n",
    "from tensorflow.keras import preprocessing\n",
    "from tensorflow.keras.preprocessing import image_dataset_from_directory\n",
    "import matplotlib.pyplot as plt\n",
    "import numpy as np\n",
    "from keras.models import load_model\n",
    "\n",
    "\n",
    "\n",
    "\n",
    "\n",
    "image_size=(160,160)\n",
    "# i variable is to give unique name to images\n",
    "i = 0\n",
    "\n",
    "wait = 0\n",
    "\n",
    "# Open the camera\n",
    "video = cv2.VideoCapture(0)\n",
    "\n",
    "while True:\n",
    "    # Read video by read() function and it\n",
    "    # will extract and return the frame\n",
    "    ret, img = video.read()\n",
    "\n",
    "    # Put current DateTime on each frame\n",
    "    font = cv2.FONT_HERSHEY_PLAIN\n",
    "    \n",
    "\n",
    "    # Display the image\n",
    "    cv2.imshow('live video', img)\n",
    "\n",
    "    # wait for user to press any key\n",
    "    key = cv2.waitKey(100)\n",
    "\n",
    "    # wait variable is to calculate waiting time\n",
    "    wait = wait + 100\n",
    "\n",
    "    if key == ord('q'):\n",
    "        break\n",
    "    # when it reaches to 2000 milliseconds\n",
    "    # we will save that frame in given folder\n",
    "    if wait == 1000:\n",
    "        filename = 'aa' + str(i) + '.jpg'\n",
    "\n",
    "        # Save the images in given path\n",
    "        cv2.imwrite(filename, img)\n",
    "        \n",
    "        wait = 0\n",
    "        aa =\"aa\" + str(i) + \".jpg\"\n",
    "        i+=1\n",
    "        \n",
    "   "
   ]
  },
  {
   "cell_type": "code",
   "execution_count": null,
   "id": "0802e150",
   "metadata": {},
   "outputs": [],
   "source": []
  }
 ],
 "metadata": {
  "kernelspec": {
   "display_name": "Python 3 (ipykernel)",
   "language": "python",
   "name": "python3"
  },
  "language_info": {
   "codemirror_mode": {
    "name": "ipython",
    "version": 3
   },
   "file_extension": ".py",
   "mimetype": "text/x-python",
   "name": "python",
   "nbconvert_exporter": "python",
   "pygments_lexer": "ipython3",
   "version": "3.9.7"
  }
 },
 "nbformat": 4,
 "nbformat_minor": 5
}
